{
 "cells": [
  {
   "cell_type": "markdown",
   "metadata": {},
   "source": [
    "# GOM create data\n",
    "\n",
    "## Author: M.Ravasi\n",
    "\n",
    "This notebook shows how to create the GOM dataset npz files to be used in the reconstruction algorithm starting from the original dataset in the ``gom_data.npz`` file. This also includes computing gradients from the finely sampled single-channel data."
   ]
  },
  {
   "cell_type": "code",
   "execution_count": 1,
   "metadata": {},
   "outputs": [],
   "source": [
    "%load_ext autoreload\n",
    "%autoreload 2\n",
    "%matplotlib inline\n",
    "\n",
    "import numpy as np\n",
    "import scipy as sp\n",
    "import matplotlib.pyplot as plt\n",
    "\n",
    "from mcslopes.preprocessing import butter_lowpass_filter, gradient_data"
   ]
  },
  {
   "cell_type": "markdown",
   "metadata": {},
   "source": [
    "## Parameters"
   ]
  },
  {
   "cell_type": "code",
   "execution_count": 2,
   "metadata": {},
   "outputs": [],
   "source": [
    "# pre-processing\n",
    "fcut = 35. # cut-off frequency of low pass filter  (in Hz)\n",
    "ncut = 11 # lenght of low pass filter (in Hz)\n",
    "tdir = 430 # index above which the data will be removed - this is a rough way to remove the direct arrival\n",
    "nfft_t, nfft_x = 2**11, 2**9 # lenght of frequency and wavenumber axis (used to compute gradients and perform FK transforms during data reconstruction)\n",
    "\n",
    "# subsampling\n",
    "nsub = 5"
   ]
  },
  {
   "cell_type": "markdown",
   "metadata": {},
   "source": [
    "## Create data"
   ]
  },
  {
   "cell_type": "code",
   "execution_count": 3,
   "metadata": {},
   "outputs": [],
   "source": [
    "# Load data\n",
    "fh = np.load('../../data/gom_data.npz')\n",
    "d = fh['data']\n",
    "x = fh['x']\n",
    "t = fh['t']\n",
    "dt = t[1] - t[0]\n",
    "dx = x[1] - x[0]\n",
    "nx = x.size\n",
    "\n",
    "# Filter to remove spatial aliasing\n",
    "d = butter_lowpass_filter(d.T, fcut, 1/dt, ncut).T\n",
    "\n",
    "# Remove direct arrival\n",
    "d[:tdir] = 0.\n",
    "\n",
    "# Ensure to have first and last trace\n",
    "x = x[:(nx//nsub)*nsub-nsub+1]\n",
    "d = d[:, :(nx//nsub)*nsub-nsub+1]\n",
    "\n",
    "# Spatial derivatives\n",
    "d1, d2 = gradient_data(d.T, nfft_x, nfft_t, dx, dt)[:2]\n",
    "d1, d2 = d1.T, d2.T\n",
    "\n",
    "np.savez(f'../../data/gom_data_forsub{nsub}.npz', data=d, grad1=d1, grad2=d2, x=x, t=t)"
   ]
  },
  {
   "cell_type": "code",
   "execution_count": 4,
   "metadata": {},
   "outputs": [],
   "source": [
    "# Subsample\n",
    "dsub = d[:, ::nsub] \n",
    "d1sub = d1[:, ::nsub] \n",
    "d2sub = d2[:, ::nsub] \n",
    "\n",
    "np.savez(f'../../data/gom_data_sub{nsub}.npz', data=dsub, grad1=d1sub, grad2=d2sub, xorig=x, x=x[::nsub], t=t)"
   ]
  }
 ],
 "metadata": {
  "kernelspec": {
   "display_name": "Python 3 (ipykernel)",
   "language": "python",
   "name": "python3"
  },
  "language_info": {
   "codemirror_mode": {
    "name": "ipython",
    "version": 3
   },
   "file_extension": ".py",
   "mimetype": "text/x-python",
   "name": "python",
   "nbconvert_exporter": "python",
   "pygments_lexer": "ipython3",
   "version": "3.10.8"
  },
  "toc": {
   "base_numbering": 1,
   "nav_menu": {},
   "number_sections": true,
   "sideBar": true,
   "skip_h1_title": false,
   "title_cell": "Table of Contents",
   "title_sidebar": "Contents",
   "toc_cell": false,
   "toc_position": {
    "height": "769px",
    "left": "62px",
    "top": "110px",
    "width": "830px"
   },
   "toc_section_display": true,
   "toc_window_display": true
  },
  "vscode": {
   "interpreter": {
    "hash": "c27fe88b23d484518624eca1cce745dae2db0a60686a425eb41df47c725cd0a4"
   }
  }
 },
 "nbformat": 4,
 "nbformat_minor": 2
}
